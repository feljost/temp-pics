{
 "cells": [
  {
   "cell_type": "code",
   "execution_count": 8,
   "metadata": {},
   "outputs": [],
   "source": [
    "from os import listdir\n",
    "from os.path import isfile, join"
   ]
  },
  {
   "cell_type": "code",
   "execution_count": 9,
   "metadata": {},
   "outputs": [
    {
     "name": "stdout",
     "output_type": "stream",
     "text": [
      "['https://raw.githubusercontent.com/feljost/temp-pics/main/chateau_dyquem/0e167482-1682-4fbe-9c48-c8de6427ddd1.jpg', 'https://raw.githubusercontent.com/feljost/temp-pics/main/chateau_dyquem/0f108aa1-1e4e-4ad0-91cd-52eff7ad62e8.jpg', 'https://raw.githubusercontent.com/feljost/temp-pics/main/chateau_dyquem/132f19c6-2bce-4938-9f09-120af71192cf.jpg', 'https://raw.githubusercontent.com/feljost/temp-pics/main/chateau_dyquem/20fb6a01-ce24-4a6f-9ff1-84ee955a6753.jpg', 'https://raw.githubusercontent.com/feljost/temp-pics/main/chateau_dyquem/2bb9d84e-5b6f-425e-afe3-e9b05ecd2ed7.jpg', 'https://raw.githubusercontent.com/feljost/temp-pics/main/chateau_dyquem/4b9e88ae-ab7d-4e29-9bc1-ca469e6cfa6d.jpg', 'https://raw.githubusercontent.com/feljost/temp-pics/main/chateau_dyquem/5383ccee-62a5-4e8d-b318-0dbc8e76f940.jpg', 'https://raw.githubusercontent.com/feljost/temp-pics/main/chateau_dyquem/5474ec22-dc69-4611-9b8d-8656579a4910.jpg', 'https://raw.githubusercontent.com/feljost/temp-pics/main/chateau_dyquem/555243d7-f8c2-4657-bd3a-a2eef1612844.jpg', 'https://raw.githubusercontent.com/feljost/temp-pics/main/chateau_dyquem/687fb245-d119-443c-98d9-2e5bd3a73218.jpg', 'https://raw.githubusercontent.com/feljost/temp-pics/main/chateau_dyquem/69eea05b-925a-458f-9d4e-aa68a0f530e7.jpg', 'https://raw.githubusercontent.com/feljost/temp-pics/main/chateau_dyquem/72d47513-ea3b-497e-a176-3dfb6723315c.jpg', 'https://raw.githubusercontent.com/feljost/temp-pics/main/chateau_dyquem/72eec683-e2b3-4f70-9786-f45d353d0853.jpg', 'https://raw.githubusercontent.com/feljost/temp-pics/main/chateau_dyquem/73585343-36d3-4c7d-8f07-6cc32ec48c7d.jpg', 'https://raw.githubusercontent.com/feljost/temp-pics/main/chateau_dyquem/82c430a7-c1a6-4aea-818d-5aadcb1e31a1.jpg', 'https://raw.githubusercontent.com/feljost/temp-pics/main/chateau_dyquem/91ae9c74-5bfc-4c69-8125-fd7ecf4086bb.jpg', 'https://raw.githubusercontent.com/feljost/temp-pics/main/chateau_dyquem/96d9baa1-f93e-47de-9839-1978b10e4b58.jpg', 'https://raw.githubusercontent.com/feljost/temp-pics/main/chateau_dyquem/981de2b8-704b-46aa-b67a-24e539aa4e9f.jpg', 'https://raw.githubusercontent.com/feljost/temp-pics/main/chateau_dyquem/9c0a31ef-5f96-44c3-90ef-3ad819d66068.jpg', 'https://raw.githubusercontent.com/feljost/temp-pics/main/chateau_dyquem/9f73b8ab-6c9c-4532-8590-34ff724d3e4f.jpg', 'https://raw.githubusercontent.com/feljost/temp-pics/main/chateau_dyquem/acb29ec9-61a2-4836-9375-dbf9113d15c6.jpg', 'https://raw.githubusercontent.com/feljost/temp-pics/main/chateau_dyquem/b410375a-3b30-4c57-b751-e626a50aa93c.jpg', 'https://raw.githubusercontent.com/feljost/temp-pics/main/chateau_dyquem/b8026b2b-f673-4401-b302-adc2de481147.jpg', 'https://raw.githubusercontent.com/feljost/temp-pics/main/chateau_dyquem/ba1f4adc-3863-4fd5-b7ea-e9f67ce0bab0.jpg', 'https://raw.githubusercontent.com/feljost/temp-pics/main/chateau_dyquem/ba354f37-8773-4408-9264-556bbc256744.jpg', 'https://raw.githubusercontent.com/feljost/temp-pics/main/chateau_dyquem/befff5f4-c868-4380-989c-c3170e5ff684.jpg', 'https://raw.githubusercontent.com/feljost/temp-pics/main/chateau_dyquem/c133f0f4-5a38-4784-9343-34c952a4554b.jpg', 'https://raw.githubusercontent.com/feljost/temp-pics/main/chateau_dyquem/c6ec7277-af2b-4723-b023-1730913f26ab.jpg', 'https://raw.githubusercontent.com/feljost/temp-pics/main/chateau_dyquem/cc374b31-44e6-4e3d-83ea-629bb1ac4c72.jpg', 'https://raw.githubusercontent.com/feljost/temp-pics/main/chateau_dyquem/da58f00e-28a7-416a-8648-6cf8bdc1f3fc.jpg']\n",
      "['https://raw.githubusercontent.com/feljost/temp-pics/main/grand_cru/096c1535-45d1-4546-b93e-63ca84f711f0.jpg', 'https://raw.githubusercontent.com/feljost/temp-pics/main/grand_cru/09d73dcb-31aa-4b1a-a166-558e69ece506.jpg', 'https://raw.githubusercontent.com/feljost/temp-pics/main/grand_cru/0cc4b3d8-9a20-4286-b34d-7027a6bbce0c.jpg', 'https://raw.githubusercontent.com/feljost/temp-pics/main/grand_cru/1177e7e7-7e19-48de-b574-bc37e0a1ef31.jpg', 'https://raw.githubusercontent.com/feljost/temp-pics/main/grand_cru/136b8faa-1bc9-48a4-8811-29060c0457d4.jpg', 'https://raw.githubusercontent.com/feljost/temp-pics/main/grand_cru/1ae67016-8d26-4d0f-9bd5-1ca64376c960.jpg', 'https://raw.githubusercontent.com/feljost/temp-pics/main/grand_cru/20c442be-c871-4fb6-971e-7417d4d05f78.jpg', 'https://raw.githubusercontent.com/feljost/temp-pics/main/grand_cru/2279d277-2b84-417b-afde-5fa0907387dc.jpg', 'https://raw.githubusercontent.com/feljost/temp-pics/main/grand_cru/2383fd57-878c-455b-b008-967ed6056f97.jpg', 'https://raw.githubusercontent.com/feljost/temp-pics/main/grand_cru/26888ff6-d12d-4c09-a337-821759e6318c.jpg', 'https://raw.githubusercontent.com/feljost/temp-pics/main/grand_cru/281c577a-cbb2-4b09-acc2-963a79f1c7b8.jpg', 'https://raw.githubusercontent.com/feljost/temp-pics/main/grand_cru/29f79369-4d56-473f-a776-7310ff69e649.jpg', 'https://raw.githubusercontent.com/feljost/temp-pics/main/grand_cru/2c294a67-3af6-42fd-bd0e-738b2a0a980d.jpg', 'https://raw.githubusercontent.com/feljost/temp-pics/main/grand_cru/2cabb841-22de-4590-ae1e-a532e81233b0.jpg', 'https://raw.githubusercontent.com/feljost/temp-pics/main/grand_cru/2d7a35c5-4f44-4987-a422-3e565420a9c2.jpg', 'https://raw.githubusercontent.com/feljost/temp-pics/main/grand_cru/57172867-e8d0-4bee-9430-d1d32e882857.jpg', 'https://raw.githubusercontent.com/feljost/temp-pics/main/grand_cru/5b4a01c0-e729-45e7-a7c8-304b419ace28.jpg', 'https://raw.githubusercontent.com/feljost/temp-pics/main/grand_cru/5dabe9f3-7589-4569-8f81-4ea1beed2fc6.jpg', 'https://raw.githubusercontent.com/feljost/temp-pics/main/grand_cru/62b16878-f301-4925-a973-ab045b369172.jpg', 'https://raw.githubusercontent.com/feljost/temp-pics/main/grand_cru/795354e2-03f4-4494-ae7c-97e0ce6c206c.jpg', 'https://raw.githubusercontent.com/feljost/temp-pics/main/grand_cru/7b8eb751-a0e1-4249-9e57-2c964d09ee24.jpg', 'https://raw.githubusercontent.com/feljost/temp-pics/main/grand_cru/895e2a7c-91a7-40e2-85c6-3ecb788f13b7.jpg', 'https://raw.githubusercontent.com/feljost/temp-pics/main/grand_cru/958068ad-7509-492c-a816-4f9597fca991.jpg', 'https://raw.githubusercontent.com/feljost/temp-pics/main/grand_cru/9a2c66f1-6d87-46ea-91a1-1ff6142b2b6e.jpg', 'https://raw.githubusercontent.com/feljost/temp-pics/main/grand_cru/9ac44ed7-bf59-4658-9f0d-4b85d3916066.jpg', 'https://raw.githubusercontent.com/feljost/temp-pics/main/grand_cru/b7335af0-9d87-41c7-b566-8b94763a7c7a.jpg', 'https://raw.githubusercontent.com/feljost/temp-pics/main/grand_cru/bf089d6b-37c0-453b-859f-341df7cc5ce7.jpg', 'https://raw.githubusercontent.com/feljost/temp-pics/main/grand_cru/c6479622-700f-4429-a0d6-114a53df729c.jpg', 'https://raw.githubusercontent.com/feljost/temp-pics/main/grand_cru/cab5cb90-0075-47c1-b503-95ea8d258a77.jpg', 'https://raw.githubusercontent.com/feljost/temp-pics/main/grand_cru/ceccc58a-a9e4-456f-8f55-7caefbf0440b.jpg', 'https://raw.githubusercontent.com/feljost/temp-pics/main/grand_cru/cf0f86d0-97d2-4846-b920-d0d366accf09.jpg', 'https://raw.githubusercontent.com/feljost/temp-pics/main/grand_cru/f07b22e9-f850-409c-ab50-946fe5cfe171.jpg', 'https://raw.githubusercontent.com/feljost/temp-pics/main/grand_cru/f15bc81d-0953-4951-b890-a9525c372f96.jpg', 'https://raw.githubusercontent.com/feljost/temp-pics/main/grand_cru/f9be6841-76be-4d95-aab6-49b4e8d74a3d.jpg', 'https://raw.githubusercontent.com/feljost/temp-pics/main/grand_cru/fda91b86-2590-4eab-886d-ee2526c9568d.jpg']\n",
      "['https://raw.githubusercontent.com/feljost/temp-pics/main/masseto_toscana/0220509140415.jpg', 'https://raw.githubusercontent.com/feljost/temp-pics/main/masseto_toscana/088067bd-f7ec-4df2-9d8e-ad3b17db7489.jpg', 'https://raw.githubusercontent.com/feljost/temp-pics/main/masseto_toscana/13f9a585-31b3-4509-9958-f387a60e9167.jpg', 'https://raw.githubusercontent.com/feljost/temp-pics/main/masseto_toscana/1999_masseto_toscana_igt_tusca_1590930772_73cbeb7a_progressive.jpg', 'https://raw.githubusercontent.com/feljost/temp-pics/main/masseto_toscana/1a36a5d3-1d09-4a11-9a53-8f1434e180ef.jpg', 'https://raw.githubusercontent.com/feljost/temp-pics/main/masseto_toscana/2c610e4d-5dae-4331-87da-36d5c3bba569.jpg', 'https://raw.githubusercontent.com/feljost/temp-pics/main/masseto_toscana/53403623_10156277440347914_6065266168740970496_n.jpg', 'https://raw.githubusercontent.com/feljost/temp-pics/main/masseto_toscana/572ff301-9766-42a0-bed2-fe048ea0077f.jpg', 'https://raw.githubusercontent.com/feljost/temp-pics/main/masseto_toscana/5c9af89f-4bc0-4e05-9119-e4664f9e9106.jpg', 'https://raw.githubusercontent.com/feljost/temp-pics/main/masseto_toscana/6017c51aeff1913fcb08799b_A-Brief-History-of-Masseto_20_1_.jpg', 'https://raw.githubusercontent.com/feljost/temp-pics/main/masseto_toscana/6f7ee192-d816-4b4e-9e33-061dac985235.jpg', 'https://raw.githubusercontent.com/feljost/temp-pics/main/masseto_toscana/8127f081-8849-402f-8177-cb0f849e016e.jpg', 'https://raw.githubusercontent.com/feljost/temp-pics/main/masseto_toscana/93065625-d0c5-418f-b0c6-226b8d533e06 (1).jpg', 'https://raw.githubusercontent.com/feljost/temp-pics/main/masseto_toscana/93065625-d0c5-418f-b0c6-226b8d533e06.jpg', 'https://raw.githubusercontent.com/feljost/temp-pics/main/masseto_toscana/a1f77be663a86e6fd868fc9fc7d629492b30e930_2_750x1000.jpeg', 'https://raw.githubusercontent.com/feljost/temp-pics/main/masseto_toscana/a282aac2-caf7-4970-99ca-13d832f6505b.jpg', 'https://raw.githubusercontent.com/feljost/temp-pics/main/masseto_toscana/a7891138-679e-4422-9050-2bac11484ede.jpg', 'https://raw.githubusercontent.com/feljost/temp-pics/main/masseto_toscana/ab1e3a1b-991a-4e99-99ee-f9cbad4b1e85.jpg', 'https://raw.githubusercontent.com/feljost/temp-pics/main/masseto_toscana/c322b245-dcde-4a01-a280-35ce7604015d.jpg', 'https://raw.githubusercontent.com/feljost/temp-pics/main/masseto_toscana/c77d18f1-f488-4599-916e-561eb4e46013.jpg', 'https://raw.githubusercontent.com/feljost/temp-pics/main/masseto_toscana/masseto-2001.jpg', 'https://raw.githubusercontent.com/feljost/temp-pics/main/masseto_toscana/masseto-aaac-igt-ornellaia-toscana-aaaml.jpg', 'https://raw.githubusercontent.com/feljost/temp-pics/main/masseto_toscana/Masseto-Toscana-IGT-2012-0AF75C8C8.jpg', 'https://raw.githubusercontent.com/feljost/temp-pics/main/masseto_toscana/masseto-toscana_1 (1).jpg', 'https://raw.githubusercontent.com/feljost/temp-pics/main/masseto_toscana/masseto-toscana_1.jpg', 'https://raw.githubusercontent.com/feljost/temp-pics/main/masseto_toscana/s-l1600 (1).jpg', 'https://raw.githubusercontent.com/feljost/temp-pics/main/masseto_toscana/s-l1600 (2).jpg', 'https://raw.githubusercontent.com/feljost/temp-pics/main/masseto_toscana/s-l1600 (3).jpg', 'https://raw.githubusercontent.com/feljost/temp-pics/main/masseto_toscana/s-l1600 (4).jpg', 'https://raw.githubusercontent.com/feljost/temp-pics/main/masseto_toscana/s-l1600.jpg', 'https://raw.githubusercontent.com/feljost/temp-pics/main/masseto_toscana/Screenshot 2020-11-25 at 11.41.45 AM.png', 'https://raw.githubusercontent.com/feljost/temp-pics/main/masseto_toscana/Screenshot 2020-11-25 at 11.43.40 AM.png']\n",
      "['https://raw.githubusercontent.com/feljost/temp-pics/main/penfolds_grange/0347f72e-56d0-4c91-9fed-9297915d7050.jpg', 'https://raw.githubusercontent.com/feljost/temp-pics/main/penfolds_grange/04ad667a-ba78-412f-8b9d-d2c63e1a3833.jpg', 'https://raw.githubusercontent.com/feljost/temp-pics/main/penfolds_grange/0b9da6f7-48a2-4eb5-8de6-ff5ed86762de.jpg', 'https://raw.githubusercontent.com/feljost/temp-pics/main/penfolds_grange/0dd999db-6096-4784-8311-04fc99d75846.jpg', 'https://raw.githubusercontent.com/feljost/temp-pics/main/penfolds_grange/0fc5b088-86ef-4ff5-ac49-30811fb86f1a.jpg', 'https://raw.githubusercontent.com/feljost/temp-pics/main/penfolds_grange/127c1129-460b-4ad8-9dce-07bc5a22f2fe.jpg', 'https://raw.githubusercontent.com/feljost/temp-pics/main/penfolds_grange/12fef289-5b41-42a4-a4ae-93a3832b6154.jpg', 'https://raw.githubusercontent.com/feljost/temp-pics/main/penfolds_grange/17e238b5-a8b4-42b8-a231-4503978d6fba.jpg', 'https://raw.githubusercontent.com/feljost/temp-pics/main/penfolds_grange/1a7243d5-6340-4618-ad85-63d8611f6f6d.jpg', 'https://raw.githubusercontent.com/feljost/temp-pics/main/penfolds_grange/41069987-33b3-4102-ae3e-e28988f7c2b0.jpg', 'https://raw.githubusercontent.com/feljost/temp-pics/main/penfolds_grange/46e76165-1e62-4343-b875-3d1b32f5a060.jpg', 'https://raw.githubusercontent.com/feljost/temp-pics/main/penfolds_grange/47dd2bb2-5d0c-4920-bf62-d914c40b650f.jpg', 'https://raw.githubusercontent.com/feljost/temp-pics/main/penfolds_grange/48887a87-f6d0-4a20-956a-cce5f1bac491.jpg', 'https://raw.githubusercontent.com/feljost/temp-pics/main/penfolds_grange/4f592911-42da-49ef-b7ee-a18968f7459f.jpg', 'https://raw.githubusercontent.com/feljost/temp-pics/main/penfolds_grange/529f5a96-5475-419c-8913-16f012f3cdba.jpg', 'https://raw.githubusercontent.com/feljost/temp-pics/main/penfolds_grange/5bc84ab3-9399-4f5e-ace3-152a3e6066f7.jpg', 'https://raw.githubusercontent.com/feljost/temp-pics/main/penfolds_grange/6236b890-dbf6-4ff4-ae05-f656a1261db8.jpg', 'https://raw.githubusercontent.com/feljost/temp-pics/main/penfolds_grange/625f5d8d-972f-4f0e-a993-517b2ebaaf95.jpg', 'https://raw.githubusercontent.com/feljost/temp-pics/main/penfolds_grange/6f725827-69e2-4659-ad9e-cf96534b13e9.jpg', 'https://raw.githubusercontent.com/feljost/temp-pics/main/penfolds_grange/79f956a9-8bd7-490e-a5d1-d1fe906c6ee0.jpg', 'https://raw.githubusercontent.com/feljost/temp-pics/main/penfolds_grange/7c616102-f67e-4acf-822c-bc826911853b.jpg', 'https://raw.githubusercontent.com/feljost/temp-pics/main/penfolds_grange/96bf3e39-9c7d-46c3-94e5-e4aa4fdf78c3.jpg', 'https://raw.githubusercontent.com/feljost/temp-pics/main/penfolds_grange/a79ce60d-02c7-4f37-bea9-e901a5aa2a75.jpg', 'https://raw.githubusercontent.com/feljost/temp-pics/main/penfolds_grange/abfd69fa-18bb-4087-ac57-bfc191d8a819.jpg', 'https://raw.githubusercontent.com/feljost/temp-pics/main/penfolds_grange/b96dad9c-e380-4f18-abf0-4db7e19e2aa3.jpg', 'https://raw.githubusercontent.com/feljost/temp-pics/main/penfolds_grange/c4159531-dea0-45b3-8e41-fe7686640d31.jpg', 'https://raw.githubusercontent.com/feljost/temp-pics/main/penfolds_grange/c5201ade-a4dd-4ef5-899b-2a0eaf9ec081.jpg', 'https://raw.githubusercontent.com/feljost/temp-pics/main/penfolds_grange/c82878a5-a748-4817-a782-a210d324aa59.jpg', 'https://raw.githubusercontent.com/feljost/temp-pics/main/penfolds_grange/d65b93f7-3122-4ee5-b6e2-55aca45e73b4.jpg', 'https://raw.githubusercontent.com/feljost/temp-pics/main/penfolds_grange/dab52277-5a33-4a5f-b008-e54f3b7e6a17.jpg', 'https://raw.githubusercontent.com/feljost/temp-pics/main/penfolds_grange/e78f7a68-6549-4c29-804d-3dff6109779e.jpg', 'https://raw.githubusercontent.com/feljost/temp-pics/main/penfolds_grange/e7e88954-b2c2-4d74-9d7c-a1d5baae7e10.jpg', 'https://raw.githubusercontent.com/feljost/temp-pics/main/penfolds_grange/ea818194-99cf-4740-9c71-8bf1f2a8d723.jpg']\n",
      "['https://raw.githubusercontent.com/feljost/temp-pics/main/screaming_eagle/09eb9db5-b51f-46d2-b64e-97a7fe7ce1d0.jpg', 'https://raw.githubusercontent.com/feljost/temp-pics/main/screaming_eagle/0e46dc38-4ae6-452c-af1b-9c051b74cc19.jpg', 'https://raw.githubusercontent.com/feljost/temp-pics/main/screaming_eagle/19d43c34-92f1-4178-8af0-d21d26fd9361.jpg', 'https://raw.githubusercontent.com/feljost/temp-pics/main/screaming_eagle/210c3ed7-2d19-477a-9ae8-0815993736e5.jpg', 'https://raw.githubusercontent.com/feljost/temp-pics/main/screaming_eagle/25e9f1f8-db93-4f3d-a530-200f22f18f08 (1).jpg', 'https://raw.githubusercontent.com/feljost/temp-pics/main/screaming_eagle/25e9f1f8-db93-4f3d-a530-200f22f18f08.jpg', 'https://raw.githubusercontent.com/feljost/temp-pics/main/screaming_eagle/38ef748d-7c3d-40a2-8ad1-4812163ec7c7.jpg', 'https://raw.githubusercontent.com/feljost/temp-pics/main/screaming_eagle/429412a5-d7fd-452a-bc45-2711c57574f5.jpg', 'https://raw.githubusercontent.com/feljost/temp-pics/main/screaming_eagle/7566ff28-0211-425a-8309-e47ef957a248.jpg', 'https://raw.githubusercontent.com/feljost/temp-pics/main/screaming_eagle/78a951da-849e-4946-8d54-cedea3b2c391.jpg', 'https://raw.githubusercontent.com/feljost/temp-pics/main/screaming_eagle/7d0a43aa-0d15-41ed-8f96-b3ef99fb2ddb.jpg', 'https://raw.githubusercontent.com/feljost/temp-pics/main/screaming_eagle/8016eef6-e519-41c3-8a50-f5c341bd52b3.jpg', 'https://raw.githubusercontent.com/feljost/temp-pics/main/screaming_eagle/86ccc488-299f-4c04-ad34-3b6cfa7ea49d.jpg', 'https://raw.githubusercontent.com/feljost/temp-pics/main/screaming_eagle/8a1c5660-77b3-46f3-84e5-d0a4e6a9d419.jpg', 'https://raw.githubusercontent.com/feljost/temp-pics/main/screaming_eagle/8b5aa5e2-1ab4-4466-b921-df4aeef5ffa0.jpg', 'https://raw.githubusercontent.com/feljost/temp-pics/main/screaming_eagle/9d5ab856-6a41-471f-a975-ff8ca2322d1b.jpg', 'https://raw.githubusercontent.com/feljost/temp-pics/main/screaming_eagle/a5fa41e8-73ea-47d1-8aff-ace20ec9ddef.jpg', 'https://raw.githubusercontent.com/feljost/temp-pics/main/screaming_eagle/a65d4385-013c-4048-9782-d572482a0c9f.jpg', 'https://raw.githubusercontent.com/feljost/temp-pics/main/screaming_eagle/a8473d70-52f6-41cc-9de6-6fa9737288b9.jpg', 'https://raw.githubusercontent.com/feljost/temp-pics/main/screaming_eagle/b027a73d-9fa9-4d79-a847-9613f7a059ec.jpg', 'https://raw.githubusercontent.com/feljost/temp-pics/main/screaming_eagle/b31acfd5-b0c7-4981-a5a0-32cf85bd5372.jpg', 'https://raw.githubusercontent.com/feljost/temp-pics/main/screaming_eagle/c074af0f-02b3-43e7-8cda-be0979bd2eea.jpg', 'https://raw.githubusercontent.com/feljost/temp-pics/main/screaming_eagle/cd5d5320-a950-4de9-989e-bd6f53fdb100.jpg', 'https://raw.githubusercontent.com/feljost/temp-pics/main/screaming_eagle/d8709f7d-4f89-467e-822b-ffc02e3f6ef0.jpg', 'https://raw.githubusercontent.com/feljost/temp-pics/main/screaming_eagle/dd021187-5dda-4415-a686-bf93b8b9cd4b.jpg', 'https://raw.githubusercontent.com/feljost/temp-pics/main/screaming_eagle/df70979f-90d0-4e17-96e4-966658d3d34a.jpg', 'https://raw.githubusercontent.com/feljost/temp-pics/main/screaming_eagle/ee9004d1-3835-4979-9ec4-dc928ab275c1.jpg', 'https://raw.githubusercontent.com/feljost/temp-pics/main/screaming_eagle/f42c00aa-8633-4331-869f-33de15582e70.jpg', 'https://raw.githubusercontent.com/feljost/temp-pics/main/screaming_eagle/f6e452f8-1c7e-4c0e-9560-6487dcd06ff3.jpg', 'https://raw.githubusercontent.com/feljost/temp-pics/main/screaming_eagle/fcb4c176-eb76-4dd1-acf2-e983b5b76708.jpg', 'https://raw.githubusercontent.com/feljost/temp-pics/main/screaming_eagle/fef1a811-e874-4215-b0e6-9a88a0684482.jpg']\n"
     ]
    }
   ],
   "source": [
    "for folder in ['chateau_dyquem', 'grand_cru', 'masseto_toscana', 'penfolds_grange', 'screaming_eagle']:\n",
    "    \n",
    "    path = fr\"C:\\Users\\feljo\\Documents\\JB_Git\\temp-pics\\{folder}\"\n",
    "    onlyfiles = [f for f in listdir(path) if isfile(join(path, f))]\n",
    "    urls = [\n",
    "        f\"https://raw.githubusercontent.com/feljost/temp-pics/main/{folder}/{file}\" for file in onlyfiles\n",
    "    ]\n",
    "    print(urls)"
   ]
  },
  {
   "cell_type": "code",
   "execution_count": 4,
   "metadata": {},
   "outputs": [
    {
     "data": {
      "text/plain": [
       "['https://raw.githubusercontent.com/feljost/temp-pics/main/ferrari250gto/Ferrari250GTOSpotted10.jpeg',\n",
       " 'https://raw.githubusercontent.com/feljost/temp-pics/main/ferrari250gto/Ferrari250GTOSpotted13.jpeg',\n",
       " 'https://raw.githubusercontent.com/feljost/temp-pics/main/ferrari250gto/Ferrari250GTOSpotted14.jpeg',\n",
       " 'https://raw.githubusercontent.com/feljost/temp-pics/main/ferrari250gto/Ferrari250GTOSpotted15.jpeg',\n",
       " 'https://raw.githubusercontent.com/feljost/temp-pics/main/ferrari250gto/Ferrari250GTOSpotted2.jpeg',\n",
       " 'https://raw.githubusercontent.com/feljost/temp-pics/main/ferrari250gto/Ferrari250GTOSpotted20.jpeg',\n",
       " 'https://raw.githubusercontent.com/feljost/temp-pics/main/ferrari250gto/Ferrari250GTOSpotted21.jpeg',\n",
       " 'https://raw.githubusercontent.com/feljost/temp-pics/main/ferrari250gto/Ferrari250GTOSpotted22.jpeg',\n",
       " 'https://raw.githubusercontent.com/feljost/temp-pics/main/ferrari250gto/Ferrari250GTOSpotted23.jpeg',\n",
       " 'https://raw.githubusercontent.com/feljost/temp-pics/main/ferrari250gto/Ferrari250GTOSpotted28.jpeg',\n",
       " 'https://raw.githubusercontent.com/feljost/temp-pics/main/ferrari250gto/Ferrari250GTOSpotted29.jpeg',\n",
       " 'https://raw.githubusercontent.com/feljost/temp-pics/main/ferrari250gto/Ferrari250GTOSpotted3.jpeg',\n",
       " 'https://raw.githubusercontent.com/feljost/temp-pics/main/ferrari250gto/Ferrari250GTOSpotted31.jpeg',\n",
       " 'https://raw.githubusercontent.com/feljost/temp-pics/main/ferrari250gto/Ferrari250GTOSpotted34.jpeg',\n",
       " 'https://raw.githubusercontent.com/feljost/temp-pics/main/ferrari250gto/Ferrari250GTOSpotted35.jpeg',\n",
       " 'https://raw.githubusercontent.com/feljost/temp-pics/main/ferrari250gto/Ferrari250GTOSpotted39.jpeg',\n",
       " 'https://raw.githubusercontent.com/feljost/temp-pics/main/ferrari250gto/Ferrari250GTOSpotted43.jpeg',\n",
       " 'https://raw.githubusercontent.com/feljost/temp-pics/main/ferrari250gto/Ferrari250GTOSpotted46.jpeg',\n",
       " 'https://raw.githubusercontent.com/feljost/temp-pics/main/ferrari250gto/Ferrari250GTOSpotted48.jpeg',\n",
       " 'https://raw.githubusercontent.com/feljost/temp-pics/main/ferrari250gto/Ferrari250GTOSpotted5.jpeg',\n",
       " 'https://raw.githubusercontent.com/feljost/temp-pics/main/ferrari250gto/Ferrari250GTOSpotted50.jpeg',\n",
       " 'https://raw.githubusercontent.com/feljost/temp-pics/main/ferrari250gto/Ferrari250GTOSpotted51.jpeg',\n",
       " 'https://raw.githubusercontent.com/feljost/temp-pics/main/ferrari250gto/Ferrari250GTOSpotted52.jpeg',\n",
       " 'https://raw.githubusercontent.com/feljost/temp-pics/main/ferrari250gto/Ferrari250GTOSpotted53.jpeg',\n",
       " 'https://raw.githubusercontent.com/feljost/temp-pics/main/ferrari250gto/Ferrari250GTOSpotted54.jpeg',\n",
       " 'https://raw.githubusercontent.com/feljost/temp-pics/main/ferrari250gto/Ferrari250GTOSpotted55.jpeg',\n",
       " 'https://raw.githubusercontent.com/feljost/temp-pics/main/ferrari250gto/Ferrari250GTOSpotted58.jpeg',\n",
       " 'https://raw.githubusercontent.com/feljost/temp-pics/main/ferrari250gto/Ferrari250GTOSpotted59.jpeg',\n",
       " 'https://raw.githubusercontent.com/feljost/temp-pics/main/ferrari250gto/Ferrari250GTOSpotted6.jpeg',\n",
       " 'https://raw.githubusercontent.com/feljost/temp-pics/main/ferrari250gto/Ferrari250GTOSpotted60.jpeg',\n",
       " 'https://raw.githubusercontent.com/feljost/temp-pics/main/ferrari250gto/Ferrari250GTOSpotted61.jpeg',\n",
       " 'https://raw.githubusercontent.com/feljost/temp-pics/main/ferrari250gto/Ferrari250GTOSpotted65.jpeg',\n",
       " 'https://raw.githubusercontent.com/feljost/temp-pics/main/ferrari250gto/Ferrari250GTOSpotted67.jpeg',\n",
       " 'https://raw.githubusercontent.com/feljost/temp-pics/main/ferrari250gto/Ferrari250GTOSpotted68.jpeg',\n",
       " 'https://raw.githubusercontent.com/feljost/temp-pics/main/ferrari250gto/Ferrari250GTOSpotted69.jpeg',\n",
       " 'https://raw.githubusercontent.com/feljost/temp-pics/main/ferrari250gto/Ferrari250GTOSpotted7.jpeg',\n",
       " 'https://raw.githubusercontent.com/feljost/temp-pics/main/ferrari250gto/Ferrari250GTOSpotted70.jpeg',\n",
       " 'https://raw.githubusercontent.com/feljost/temp-pics/main/ferrari250gto/Ferrari250GTOSpotted72.jpeg',\n",
       " 'https://raw.githubusercontent.com/feljost/temp-pics/main/ferrari250gto/Ferrari250GTOSpotted75.jpeg',\n",
       " 'https://raw.githubusercontent.com/feljost/temp-pics/main/ferrari250gto/Ferrari250GTOSpotted76.jpeg',\n",
       " 'https://raw.githubusercontent.com/feljost/temp-pics/main/ferrari250gto/Ferrari250GTOSpotted77.jpeg',\n",
       " 'https://raw.githubusercontent.com/feljost/temp-pics/main/ferrari250gto/Ferrari250GTOSpotted80.jpeg',\n",
       " 'https://raw.githubusercontent.com/feljost/temp-pics/main/ferrari250gto/Ferrari250GTOSpotted81.jpeg',\n",
       " 'https://raw.githubusercontent.com/feljost/temp-pics/main/ferrari250gto/Ferrari250GTOSpotted85.jpeg',\n",
       " 'https://raw.githubusercontent.com/feljost/temp-pics/main/ferrari250gto/Ferrari250GTOSpotted86.jpeg',\n",
       " 'https://raw.githubusercontent.com/feljost/temp-pics/main/ferrari250gto/Ferrari250GTOSpotted88.jpeg',\n",
       " 'https://raw.githubusercontent.com/feljost/temp-pics/main/ferrari250gto/Ferrari250GTOSpotted89.jpeg',\n",
       " 'https://raw.githubusercontent.com/feljost/temp-pics/main/ferrari250gto/Ferrari250GTOSpotted9.jpeg',\n",
       " 'https://raw.githubusercontent.com/feljost/temp-pics/main/ferrari250gto/Ferrari250GTOSpotted95.jpeg',\n",
       " 'https://raw.githubusercontent.com/feljost/temp-pics/main/ferrari250gto/Ferrari250GTOSpotted96.jpeg',\n",
       " 'https://raw.githubusercontent.com/feljost/temp-pics/main/ferrari250gto/Ferrari250GTOSpotted97.jpeg']"
      ]
     },
     "execution_count": 4,
     "metadata": {},
     "output_type": "execute_result"
    }
   ],
   "source": [
    "list_urls"
   ]
  },
  {
   "cell_type": "code",
   "execution_count": 2,
   "metadata": {},
   "outputs": [
    {
     "data": {
      "text/plain": [
       "['BugattiType57SCAtlanticSpotted0.jpeg',\n",
       " 'BugattiType57SCAtlanticSpotted1.jpeg',\n",
       " 'BugattiType57SCAtlanticSpotted11.jpeg',\n",
       " 'BugattiType57SCAtlanticSpotted14.jpeg',\n",
       " 'BugattiType57SCAtlanticSpotted2.jpeg',\n",
       " 'BugattiType57SCAtlanticSpotted24.jpeg',\n",
       " 'BugattiType57SCAtlanticSpotted3.jpeg',\n",
       " 'BugattiType57SCAtlanticSpotted40.jpeg',\n",
       " 'BugattiType57SCAtlanticSpotted41.jpeg',\n",
       " 'BugattiType57SCAtlanticSpotted43.jpeg',\n",
       " 'BugattiType57SCAtlanticSpotted45.jpeg',\n",
       " 'BugattiType57SCAtlanticSpotted46.jpeg',\n",
       " 'BugattiType57SCAtlanticSpotted47.jpeg',\n",
       " 'BugattiType57SCAtlanticSpotted50.jpeg',\n",
       " 'BugattiType57SCAtlanticSpotted56.jpeg',\n",
       " 'BugattiType57SCAtlanticSpotted60.jpeg',\n",
       " 'BugattiType57SCAtlanticSpotted64.jpeg',\n",
       " 'BugattiType57SCAtlanticSpotted65.jpeg',\n",
       " 'BugattiType57SCAtlanticSpotted66.jpeg',\n",
       " 'BugattiType57SCAtlanticSpotted71.jpeg',\n",
       " 'BugattiType57SCAtlanticSpotted8.jpeg',\n",
       " 'BugattiType57SCAtlanticSpotted80.jpeg',\n",
       " 'BugattiType57SCAtlanticSpotted81.jpeg']"
      ]
     },
     "execution_count": 2,
     "metadata": {},
     "output_type": "execute_result"
    }
   ],
   "source": [
    "list_urls = [\n",
    "    f\"...{file}\" for file in onlyfiles\n",
    "]"
   ]
  },
  {
   "cell_type": "code",
   "execution_count": null,
   "metadata": {},
   "outputs": [],
   "source": []
  }
 ],
 "metadata": {
  "kernelspec": {
   "display_name": "Python 3",
   "language": "python",
   "name": "python3"
  },
  "language_info": {
   "codemirror_mode": {
    "name": "ipython",
    "version": 3
   },
   "file_extension": ".py",
   "mimetype": "text/x-python",
   "name": "python",
   "nbconvert_exporter": "python",
   "pygments_lexer": "ipython3",
   "version": "3.11.3"
  },
  "orig_nbformat": 4
 },
 "nbformat": 4,
 "nbformat_minor": 2
}
